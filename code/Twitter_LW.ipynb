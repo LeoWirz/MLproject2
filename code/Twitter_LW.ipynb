{
 "cells": [
  {
   "cell_type": "code",
   "execution_count": 1,
   "metadata": {},
   "outputs": [
    {
     "name": "stderr",
     "output_type": "stream",
     "text": [
      "C:\\Users\\Leonovo\\Anaconda3\\lib\\site-packages\\gensim\\utils.py:860: UserWarning: detected Windows; aliasing chunkize to chunkize_serial\n",
      "  warnings.warn(\"detected Windows; aliasing chunkize to chunkize_serial\")\n"
     ]
    }
   ],
   "source": [
    "# Useful starting lines\n",
    "%matplotlib inline\n",
    "%load_ext autoreload\n",
    "%autoreload 2\n",
    "#\n",
    "import numpy as np\n",
    "import pandas as pd\n",
    "import matplotlib.pyplot as plt\n",
    "import nltk\n",
    "from gensim import models\n",
    "from collections import defaultdict\n",
    "import pickle\n",
    "from vaderSentiment.vaderSentiment import SentimentIntensityAnalyzer\n",
    "\n",
    "#Import all functions from the Labs and helpers\n",
    "import utils\n",
    "import text_cleaner\n",
    "import features_analysis\n",
    "\n",
    "#sklearn\n",
    "from sklearn.feature_extraction.text import CountVectorizer\n",
    "from sklearn.feature_extraction.text import TfidfTransformer\n",
    "from sklearn.feature_extraction.text import TfidfVectorizer\n",
    "\n",
    "from sklearn import linear_model, preprocessing\n",
    "from sklearn.model_selection import train_test_split\n",
    "from sklearn.preprocessing import StandardScaler\n",
    "from sklearn.datasets import make_moons, make_circles, make_classification\n",
    "from sklearn.neighbors import KNeighborsClassifier\n",
    "from sklearn.svm import SVC\n",
    "from sklearn.tree import DecisionTreeClassifier\n",
    "from sklearn.ensemble import RandomForestClassifier, AdaBoostClassifier\n",
    "from sklearn.naive_bayes import GaussianNB\n",
    "from sklearn.model_selection import cross_val_score\n",
    "from sklearn.feature_extraction.text import CountVectorizer\n",
    "from sklearn.feature_extraction.text import TfidfTransformer\n",
    "from sklearn.naive_bayes import MultinomialNB\n",
    "from sklearn.linear_model import SGDClassifier\n",
    "from sklearn.pipeline import Pipeline\n",
    "from sklearn.preprocessing import normalize\n",
    "from sklearn.neighbors import KNeighborsClassifier\n",
    "from sklearn.model_selection import GridSearchCV\n",
    "from sklearn.linear_model import LogisticRegression"
   ]
  },
  {
   "cell_type": "markdown",
   "metadata": {},
   "source": [
    "# Data loading"
   ]
  },
  {
   "cell_type": "code",
   "execution_count": 2,
   "metadata": {},
   "outputs": [],
   "source": [
    "DATASET_PATH = '../twitter-datasets/'\n",
    "SAMPLE = False"
   ]
  },
  {
   "cell_type": "code",
   "execution_count": 3,
   "metadata": {},
   "outputs": [
    {
     "name": "stdout",
     "output_type": "stream",
     "text": [
      "Successfully loaded data from ../twitter-datasets/train_pos_full.txt\n",
      "Successfully loaded data from ../twitter-datasets/train_neg_full.txt\n",
      "Successfully loaded data from ../twitter-datasets/test_data.txt\n"
     ]
    }
   ],
   "source": [
    "if SAMPLE:\n",
    "    train_pos_data = utils.load_training_data(DATASET_PATH + \"train_pos.txt\")\n",
    "    train_neg_data = utils.load_training_data(DATASET_PATH + \"train_neg.txt\")\n",
    "else:\n",
    "    train_pos_data = utils.load_training_data(DATASET_PATH +\n",
    "                                              \"train_pos_full.txt\")\n",
    "    train_neg_data = utils.load_training_data(DATASET_PATH +\n",
    "                                              \"train_neg_full.txt\")\n",
    "\n",
    "train_target = np.concatenate(\n",
    "    (np.ones(len(train_pos_data)), (-np.ones(len(train_neg_data))))\n",
    ")\n",
    "train_data = np.concatenate((train_pos_data, train_neg_data))\n",
    "test_data = utils.load_test_data(\"../twitter-datasets/test_data.txt\")"
   ]
  },
  {
   "cell_type": "code",
   "execution_count": 4,
   "metadata": {},
   "outputs": [
    {
     "data": {
      "text/plain": [
       "(2500000,)"
      ]
     },
     "execution_count": 4,
     "metadata": {},
     "output_type": "execute_result"
    }
   ],
   "source": [
    "train_data.shape"
   ]
  },
  {
   "cell_type": "markdown",
   "metadata": {},
   "source": [
    "# Data preprocessing"
   ]
  },
  {
   "cell_type": "markdown",
   "metadata": {},
   "source": [
    "## Some plots"
   ]
  },
  {
   "cell_type": "code",
   "execution_count": 6,
   "metadata": {},
   "outputs": [
    {
     "data": {
      "image/png": "[encoded data removed]",
      "text/plain": [
       "<matplotlib.figure.Figure at 0x27825b875f8>"
      ]
     },
     "metadata": {},
     "output_type": "display_data"
    }
   ],
   "source": [
    "f, (ax1, ax2) = plt.subplots(1, 2, sharey=True)\n",
    "ax1.hist([len(twit) for twit in train_data], bins=100)\n",
    "ax1.set_title('tweet characters length')\n",
    "ax2.hist([len(twit.split()) for twit in train_data], bins=100)\n",
    "ax2.set_title('tweet words length')\n",
    "f.set_figheight(5)\n",
    "f.set_figwidth(20)\n",
    "plt.show()"
   ]
  },
  {
   "cell_type": "markdown",
   "metadata": {},
   "source": [
    "## custom data cleaning"
   ]
  },
  {
   "cell_type": "code",
   "execution_count": 5,
   "metadata": {},
   "outputs": [],
   "source": [
    "cleaner = text_cleaner.text_cleaner()"
   ]
  },
  {
   "cell_type": "code",
   "execution_count": 6,
   "metadata": {},
   "outputs": [],
   "source": [
    "# save the cleaned data, doesn't clean if file is present\n",
    "try:\n",
    "    train_data_cleaned = pickle.load( open( \"train_data_cleaned.p\", \"rb\" ) )\n",
    "    test_data_cleaned = pickle.load( open( \"test_data_cleaned.p\", \"rb\" ) )\n",
    "except:\n",
    "    train_data_cleaned = cleaner.apply_to_all(train_data)\n",
    "    test_data_cleaned = cleaner.apply_to_all(test_data)\n",
    "    pickle.dump( train_data_cleaned, open( \"train_data_cleaned.p\", \"wb\" ) )\n",
    "    pickle.dump( test_data_cleaned, open( \"test_data_cleaned.p\", \"wb\" ) )"
   ]
  },
  {
   "cell_type": "markdown",
   "metadata": {},
   "source": [
    "## sentiment analysis score with Vador"
   ]
  },
  {
   "cell_type": "code",
   "execution_count": 29,
   "metadata": {},
   "outputs": [],
   "source": [
    "try:\n",
    "    train_sentiments = pickle.load( open( \"train_sentiments.p\", \"rb\" ) )\n",
    "    test_sentiments = pickle.load( open( \"test_sentiments.p\", \"rb\" ) )\n",
    "except:\n",
    "    analyzer = SentimentIntensityAnalyzer()\n",
    "\n",
    "    train_sentiments = []\n",
    "    for tweet in train_data_cleaned:\n",
    "        train_sentiments.append(list(analyzer.polarity_scores(tweet).values()))\n",
    "\n",
    "    test_sentiments = []\n",
    "    for tweet in test_data_cleaned:\n",
    "        test_sentiments.append(list(analyzer.polarity_scores(tweet).values()))\n",
    "        \n",
    "    pickle.dump( train_sentiments, open( \"train_sentiments.p\", \"wb\" ) )\n",
    "    pickle.dump( test_sentiments, open( \"test_sentiments.p\", \"wb\" ) )"
   ]
  },
  {
   "cell_type": "code",
   "execution_count": 53,
   "metadata": {},
   "outputs": [
    {
     "data": {
      "text/plain": [
       "[0.0, 0.795, 0.205, 0.6597]"
      ]
     },
     "execution_count": 53,
     "metadata": {},
     "output_type": "execute_result"
    }
   ],
   "source": [
    "train_sentiments[0]"
   ]
  },
  {
   "cell_type": "code",
   "execution_count": 56,
   "metadata": {
    "scrolled": true
   },
   "outputs": [
    {
     "data": {
      "text/plain": [
       "array([ 0.08823618,  0.19818146,  0.19086498,  0.38487862])"
      ]
     },
     "execution_count": 56,
     "metadata": {},
     "output_type": "execute_result"
    }
   ],
   "source": [
    "np.std(np.array(train_sentiments[:1250000]), axis=0)"
   ]
  },
  {
   "cell_type": "code",
   "execution_count": 57,
   "metadata": {},
   "outputs": [
    {
     "data": {
      "text/plain": [
       "array([ 0.13453464,  0.17425589,  0.1304291 ,  0.39448042])"
      ]
     },
     "execution_count": 57,
     "metadata": {},
     "output_type": "execute_result"
    }
   ],
   "source": [
    "np.std(np.array(train_sentiments[1250000:]), axis=0)"
   ]
  },
  {
   "cell_type": "markdown",
   "metadata": {},
   "source": [
    "# Text representation"
   ]
  },
  {
   "cell_type": "markdown",
   "metadata": {},
   "source": [
    "## FastText"
   ]
  },
  {
   "cell_type": "code",
   "execution_count": 5,
   "metadata": {},
   "outputs": [
    {
     "ename": "Exception",
     "evalue": "fastText: Cannot load ../files/wiki-news-300d-1M.vec due to C++ extension failed to allocate the memory",
     "output_type": "error",
     "traceback": [
      "\u001b[1;31m---------------------------------------------------------------------------\u001b[0m",
      "\u001b[1;31mMemoryError\u001b[0m                               Traceback (most recent call last)",
      "\u001b[1;32mfasttext\\fasttext.pyx\u001b[0m in \u001b[0;36mfasttext.fasttext.load_model (fasttext/fasttext.cpp:4234)\u001b[1;34m()\u001b[0m\n",
      "\u001b[1;31mMemoryError\u001b[0m: bad allocation",
      "\nDuring handling of the above exception, another exception occurred:\n",
      "\u001b[1;31mException\u001b[0m                                 Traceback (most recent call last)",
      "\u001b[1;32m<ipython-input-5-7749c7cfcee3>\u001b[0m in \u001b[0;36m<module>\u001b[1;34m()\u001b[0m\n\u001b[0;32m      1\u001b[0m \u001b[1;32mimport\u001b[0m \u001b[0mfasttext\u001b[0m\u001b[1;33m\u001b[0m\u001b[0m\n\u001b[1;32m----> 2\u001b[1;33m \u001b[0mmodel\u001b[0m \u001b[1;33m=\u001b[0m \u001b[0mfasttext\u001b[0m\u001b[1;33m.\u001b[0m\u001b[0mload_model\u001b[0m\u001b[1;33m(\u001b[0m\u001b[1;34m'../files/wiki-news-300d-1M.vec'\u001b[0m\u001b[1;33m)\u001b[0m\u001b[1;33m\u001b[0m\u001b[0m\n\u001b[0m\u001b[0;32m      3\u001b[0m \u001b[0mprint\u001b[0m\u001b[1;33m(\u001b[0m\u001b[0mmodel\u001b[0m\u001b[1;33m[\u001b[0m\u001b[1;34m'machine'\u001b[0m\u001b[1;33m]\u001b[0m\u001b[1;33m)\u001b[0m \u001b[1;31m# get the vector of the word 'machine'\u001b[0m\u001b[1;33m\u001b[0m\u001b[0m\n",
      "\u001b[1;32mfasttext\\fasttext.pyx\u001b[0m in \u001b[0;36mfasttext.fasttext.load_model (fasttext/fasttext.cpp:4292)\u001b[1;34m()\u001b[0m\n",
      "\u001b[1;31mException\u001b[0m: fastText: Cannot load ../files/wiki-news-300d-1M.vec due to C++ extension failed to allocate the memory"
     ]
    }
   ],
   "source": [
    "import fasttext\n",
    "model = fasttext.load_model('../files/wiki-news-300d-1M.vec')\n",
    "print(model['machine']) # get the vector of the word 'machine'"
   ]
  },
  {
   "cell_type": "markdown",
   "metadata": {},
   "source": [
    "## word2vec"
   ]
  },
  {
   "cell_type": "code",
   "execution_count": 12,
   "metadata": {
    "scrolled": true
   },
   "outputs": [
    {
     "name": "stderr",
     "output_type": "stream",
     "text": [
      "C:\\Users\\Leonovo\\Anaconda3\\lib\\site-packages\\gensim\\models\\phrases.py:431: UserWarning: For a faster implementation, use the gensim.models.phrases.Phraser class\n",
      "  warnings.warn(\"For a faster implementation, use the gensim.models.phrases.Phraser class\")\n"
     ]
    }
   ],
   "source": [
    "#bigram_transformer = models.Phrases(train_data_cleaned_tokens)\n",
    "#bigram_model = models.Word2Vec(bigram_transformer[train_data_cleaned_tokens], size=100, min_count=5, workers=4)"
   ]
  },
  {
   "cell_type": "code",
   "execution_count": 87,
   "metadata": {},
   "outputs": [],
   "source": [
    "train_data_cleaned_tokens = [nltk.word_tokenize(x) for x in train_data_cleaned]\n",
    "test_data_cleaned_tokens = [nltk.word_tokenize(x) for x in test_data_cleaned]"
   ]
  },
  {
   "cell_type": "code",
   "execution_count": 88,
   "metadata": {},
   "outputs": [],
   "source": [
    "try:\n",
    "    # load model\n",
    "    model = models.Word2Vec.load('word2vecModel') \n",
    "except:\n",
    "    model = models.Word2Vec(train_data_cleaned_tokens, size=300, window=5, min_count=5, workers=4)\n",
    "    # save model\n",
    "    model.save('word2vecModel')\n",
    "    \n",
    "word_vector = model.wv"
   ]
  },
  {
   "cell_type": "code",
   "execution_count": 102,
   "metadata": {
    "scrolled": true
   },
   "outputs": [
    {
     "data": {
      "text/plain": [
       "[('upset', 0.7690680027008057),\n",
       " ('depress', 0.7277838587760925),\n",
       " ('sadd', 0.6771323680877686),\n",
       " ('saddd', 0.6741654872894287),\n",
       " ('heartbreak', 0.6381857991218567)]"
      ]
     },
     "execution_count": 102,
     "metadata": {},
     "output_type": "execute_result"
    }
   ],
   "source": [
    "word_vector.similar_by_word('sad',5)"
   ]
  },
  {
   "cell_type": "code",
   "execution_count": 104,
   "metadata": {},
   "outputs": [],
   "source": [
    "class TfidfEmbeddingVectorizer(object):\n",
    "    def __init__(self, word2vec):\n",
    "        self.word2vec = word2vec\n",
    "        self.word2weight = None\n",
    "        self.dim = 100\n",
    "\n",
    "    def fit(self, X, y):\n",
    "        tfidf = TfidfVectorizer(analyzer=lambda x: x)\n",
    "        tfidf.fit(X)\n",
    "        # if a word was never seen - it must be at least as infrequent\n",
    "        # as any of the known words - so the default idf is the max of\n",
    "        # known idf's\n",
    "        max_idf = max(tfidf.idf_)\n",
    "        self.word2weight = defaultdict(lambda: max_idf, \n",
    "                                       [(w, tfidf.idf_[i]) for w, i in tfidf.vocabulary_.items()])\n",
    "\n",
    "        return self\n",
    "\n",
    "    def transform(self, X):\n",
    "        return np.array([\n",
    "            np.mean(\n",
    "                [self.word2vec[w] * self.word2weight[w] for w in words if w in self.word2vec]\n",
    "                or [np.zeros(self.dim)],\n",
    "                axis=0) for words in X\n",
    "        ])"
   ]
  },
  {
   "cell_type": "code",
   "execution_count": 105,
   "metadata": {},
   "outputs": [],
   "source": [
    "# save the cleaned data, doesn't clean if file is present\n",
    "try:\n",
    "    train_data_cleaned_vect = pickle.load( open( \"train_data_cleaned_vect.p\", \"rb\" ) )\n",
    "    test_data_cleaned_vect = pickle.load( open( \"test_data_cleaned_vect.p\", \"rb\" ) )\n",
    "except:\n",
    "    w2v = dict(zip(word_vector.index2word, word_vector.syn0))\n",
    "    emb_vect = TfidfEmbeddingVectorizer(w2v).fit(train_data_cleaned, train_target)\n",
    "    train_data_cleaned_vect = emb_vect.transform(train_data_cleaned)\n",
    "    test_data_cleaned_vect = emb_vect.transform(test_data_cleaned)\n",
    "    pickle.dump( train_data_cleaned_vect, open( \"train_data_cleaned_vect.p\", \"wb\" ) )\n",
    "    pickle.dump( test_data_cleaned_vect, open( \"test_data_cleaned_vect.p\", \"wb\" ) )"
   ]
  },
  {
   "cell_type": "markdown",
   "metadata": {},
   "source": [
    "### PCA kinda"
   ]
  },
  {
   "cell_type": "code",
   "execution_count": 126,
   "metadata": {},
   "outputs": [
    {
     "data": {
      "text/plain": [
       "TruncatedSVD(algorithm='randomized', n_components=2, n_iter=5,\n",
       "       random_state=42, tol=0.0)"
      ]
     },
     "execution_count": 126,
     "metadata": {},
     "output_type": "execute_result"
    }
   ],
   "source": [
    "from sklearn.decomposition import TruncatedSVD\n",
    "svd = TruncatedSVD(n_components=2, random_state=42)\n",
    "svd.fit(train_data_tdidf)"
   ]
  },
  {
   "cell_type": "code",
   "execution_count": 127,
   "metadata": {},
   "outputs": [],
   "source": [
    "train_data_cleaned_vect_reduced = svd.fit_transform(train_data_tdidf)"
   ]
  },
  {
   "cell_type": "code",
   "execution_count": 128,
   "metadata": {},
   "outputs": [],
   "source": [
    "a = [0 if v is None else v for v in train_data_cleaned_vect_reduced]"
   ]
  },
  {
   "cell_type": "code",
   "execution_count": 129,
   "metadata": {},
   "outputs": [
    {
     "data": {
      "text/plain": [
       "(200000, 2)"
      ]
     },
     "execution_count": 129,
     "metadata": {},
     "output_type": "execute_result"
    }
   ],
   "source": [
    "a = np.array(a)\n",
    "a.shape"
   ]
  },
  {
   "cell_type": "code",
   "execution_count": 130,
   "metadata": {},
   "outputs": [
    {
     "data": {
      "text/plain": [
       "[]"
      ]
     },
     "execution_count": 130,
     "metadata": {},
     "output_type": "execute_result"
    },
    {
     "data": {
      "image/png": "[encoded data removed]",
      "text/plain": [
       "<matplotlib.figure.Figure at 0x214dad24208>"
      ]
     },
     "metadata": {},
     "output_type": "display_data"
    }
   ],
   "source": [
    "ax = plt.subplot()\n",
    "ax.scatter(\n",
    "    a[:, 0],\n",
    "    a[:, 1],\n",
    "    c=train_target,\n",
    "    s=50,\n",
    "    edgecolor='k',\n",
    "    alpha=0.2)\n",
    "ax.set_title(\"Original Data (2d)\")\n",
    "ax.set_xticks(())\n",
    "ax.set_yticks(())"
   ]
  },
  {
   "cell_type": "markdown",
   "metadata": {},
   "source": [
    "## tf idf"
   ]
  },
  {
   "cell_type": "code",
   "execution_count": 7,
   "metadata": {},
   "outputs": [],
   "source": [
    "max_occ_per = 0.75\n",
    "min_occ_per = 5\n",
    "\n",
    "tfidf_vect = TfidfVectorizer(ngram_range=(1, 3), stop_words='english', min_df=min_occ_per , max_df=max_occ_per)"
   ]
  },
  {
   "cell_type": "code",
   "execution_count": 8,
   "metadata": {},
   "outputs": [],
   "source": [
    "train_data_tdidf = tfidf_vect.fit_transform(train_data_cleaned)\n",
    "test_data_tdidf = tfidf_vect.transform(test_data_cleaned)\n",
    "feat_names = tfidf_vect.get_feature_names()"
   ]
  },
  {
   "cell_type": "code",
   "execution_count": 9,
   "metadata": {},
   "outputs": [
    {
     "data": {
      "text/plain": [
       "700309"
      ]
     },
     "execution_count": 9,
     "metadata": {},
     "output_type": "execute_result"
    }
   ],
   "source": [
    "len(feat_names)"
   ]
  },
  {
   "cell_type": "code",
   "execution_count": 10,
   "metadata": {},
   "outputs": [
    {
     "data": {
      "image/png": "[encoded data removed]",
      "text/plain": [
       "<matplotlib.figure.Figure at 0x2b6e366feb8>"
      ]
     },
     "metadata": {},
     "output_type": "display_data"
    }
   ],
   "source": [
    "dfs = features_analysis.top_feats_by_class(train_data_tdidf, train_target, feat_names, top_n=20)\n",
    "features_analysis.plot_tfidf_classfeats_h(dfs)"
   ]
  },
  {
   "cell_type": "markdown",
   "metadata": {},
   "source": [
    "# Machine learning"
   ]
  },
  {
   "cell_type": "markdown",
   "metadata": {},
   "source": [
    "## Model selection"
   ]
  },
  {
   "cell_type": "code",
   "execution_count": 11,
   "metadata": {},
   "outputs": [],
   "source": [
    "classifiers = [\n",
    "    MultinomialNB(),\n",
    "    LogisticRegression(max_iter=200, tol = 1e-3\n",
    "                       #, solver='sag'\n",
    "                      ),\n",
    "    SGDClassifier(alpha=1e-5, random_state=42),\n",
    "    RandomForestClassifier(max_depth=100, n_estimators=100),\n",
    "]\n",
    "\n",
    "classifiers_names = [\n",
    "    'naive Bayes',\n",
    "    'logistic regression',\n",
    "    'Linear classifiers (SVM, logistic regression) with SGD',\n",
    "    'Random Forest'\n",
    "]\n",
    "\n",
    "def test_classifiers(classifiers, names, data, target, cv=3):\n",
    "    for i, classifier in enumerate(classifiers):\n",
    "        scores = cross_val_score(classifier, data, target, cv=cv, n_jobs=-1, verbose=10)\n",
    "        print(names[i])\n",
    "        print(\"Accuracy: %0.3f (+/- %0.3f)\" % (scores.mean(), scores.std() * 2))"
   ]
  },
  {
   "cell_type": "markdown",
   "metadata": {},
   "source": [
    "### with TFIDF"
   ]
  },
  {
   "cell_type": "code",
   "execution_count": null,
   "metadata": {},
   "outputs": [
    {
     "name": "stderr",
     "output_type": "stream",
     "text": [
      "[Parallel(n_jobs=-1)]: Done   3 out of   3 | elapsed:   11.8s remaining:    0.0s\n",
      "[Parallel(n_jobs=-1)]: Done   3 out of   3 | elapsed:   11.8s finished\n"
     ]
    },
    {
     "name": "stdout",
     "output_type": "stream",
     "text": [
      "naive Bayes\n",
      "Accuracy: 0.795 (+/- 0.002)\n"
     ]
    },
    {
     "name": "stderr",
     "output_type": "stream",
     "text": [
      "[Parallel(n_jobs=-1)]: Done   3 out of   3 | elapsed:  2.5min remaining:    0.0s\n",
      "[Parallel(n_jobs=-1)]: Done   3 out of   3 | elapsed:  2.5min finished\n"
     ]
    },
    {
     "name": "stdout",
     "output_type": "stream",
     "text": [
      "logistic regression\n",
      "Accuracy: 0.822 (+/- 0.002)\n"
     ]
    },
    {
     "name": "stderr",
     "output_type": "stream",
     "text": [
      "[Parallel(n_jobs=-1)]: Done   3 out of   3 | elapsed:   18.0s remaining:    0.0s\n",
      "[Parallel(n_jobs=-1)]: Done   3 out of   3 | elapsed:   18.0s finished\n"
     ]
    },
    {
     "name": "stdout",
     "output_type": "stream",
     "text": [
      "Linear classifiers (SVM, logistic regression) with SGD\n",
      "Accuracy: 0.809 (+/- 0.002)\n"
     ]
    }
   ],
   "source": [
    "# trigrams\n",
    "test_classifiers(classifiers, classifiers_names, train_data_tdidf, train_target)"
   ]
  },
  {
   "cell_type": "code",
   "execution_count": 23,
   "metadata": {
    "scrolled": false
   },
   "outputs": [
    {
     "name": "stderr",
     "output_type": "stream",
     "text": [
      "[Parallel(n_jobs=-1)]: Done   2 out of   5 | elapsed:   20.6s remaining:   30.9s\n",
      "[Parallel(n_jobs=-1)]: Done   3 out of   5 | elapsed:   20.6s remaining:   13.7s\n",
      "[Parallel(n_jobs=-1)]: Done   5 out of   5 | elapsed:   23.8s remaining:    0.0s\n",
      "[Parallel(n_jobs=-1)]: Done   5 out of   5 | elapsed:   23.8s finished\n"
     ]
    },
    {
     "name": "stdout",
     "output_type": "stream",
     "text": [
      "naive Bayes\n",
      "Accuracy: 0.793 (+/- 0.003)\n"
     ]
    },
    {
     "name": "stderr",
     "output_type": "stream",
     "text": [
      "[Parallel(n_jobs=-1)]: Done   2 out of   5 | elapsed:  5.9min remaining:  8.8min\n",
      "[Parallel(n_jobs=-1)]: Done   3 out of   5 | elapsed:  6.3min remaining:  4.2min\n",
      "[Parallel(n_jobs=-1)]: Done   5 out of   5 | elapsed:  9.0min remaining:    0.0s\n",
      "[Parallel(n_jobs=-1)]: Done   5 out of   5 | elapsed:  9.0min finished\n"
     ]
    },
    {
     "name": "stdout",
     "output_type": "stream",
     "text": [
      "logistic regression\n",
      "Accuracy: 0.823 (+/- 0.003)\n"
     ]
    },
    {
     "name": "stderr",
     "output_type": "stream",
     "text": [
      "[Parallel(n_jobs=-1)]: Done   2 out of   5 | elapsed:   29.3s remaining:   44.0s\n",
      "[Parallel(n_jobs=-1)]: Done   3 out of   5 | elapsed:   29.3s remaining:   19.5s\n",
      "[Parallel(n_jobs=-1)]: Done   5 out of   5 | elapsed:   38.4s remaining:    0.0s\n",
      "[Parallel(n_jobs=-1)]: Done   5 out of   5 | elapsed:   38.4s finished\n"
     ]
    },
    {
     "name": "stdout",
     "output_type": "stream",
     "text": [
      "Linear classifiers (SVM, logistic regression) with SGD\n",
      "Accuracy: 0.809 (+/- 0.002)\n"
     ]
    },
    {
     "name": "stderr",
     "output_type": "stream",
     "text": [
      "[Parallel(n_jobs=-1)]: Done   2 out of   5 | elapsed: 12.8min remaining: 19.2min\n",
      "[Parallel(n_jobs=-1)]: Done   3 out of   5 | elapsed: 12.8min remaining:  8.5min\n",
      "[Parallel(n_jobs=-1)]: Done   5 out of   5 | elapsed: 17.6min remaining:    0.0s\n",
      "[Parallel(n_jobs=-1)]: Done   5 out of   5 | elapsed: 17.6min finished\n"
     ]
    },
    {
     "name": "stdout",
     "output_type": "stream",
     "text": [
      "Random Forest\n",
      "Accuracy: 0.570 (+/- 0.075)\n"
     ]
    }
   ],
   "source": [
    "# bigrams\n",
    "test_classifiers(classifiers, classifiers_names, train_data_tdidf, train_target)"
   ]
  },
  {
   "cell_type": "markdown",
   "metadata": {},
   "source": [
    "### with word2vec"
   ]
  },
  {
   "cell_type": "code",
   "execution_count": 66,
   "metadata": {},
   "outputs": [
    {
     "data": {
      "text/plain": [
       "['logistic regression',\n",
       " 'Linear classifiers (SVM, logistic regression) with SGD']"
      ]
     },
     "execution_count": 66,
     "metadata": {},
     "output_type": "execute_result"
    }
   ],
   "source": [
    "classifiers_names[1:3]"
   ]
  },
  {
   "cell_type": "code",
   "execution_count": 67,
   "metadata": {},
   "outputs": [
    {
     "name": "stderr",
     "output_type": "stream",
     "text": [
      "[Parallel(n_jobs=-1)]: Done   3 out of   3 | elapsed:  5.6min remaining:    0.0s\n",
      "[Parallel(n_jobs=-1)]: Done   3 out of   3 | elapsed:  5.6min finished\n"
     ]
    },
    {
     "name": "stdout",
     "output_type": "stream",
     "text": [
      "logistic regression\n",
      "Accuracy: 0.692 (+/- 0.003)\n"
     ]
    },
    {
     "name": "stderr",
     "output_type": "stream",
     "text": [
      "[Parallel(n_jobs=-1)]: Done   3 out of   3 | elapsed:   55.7s remaining:    0.0s\n",
      "[Parallel(n_jobs=-1)]: Done   3 out of   3 | elapsed:   55.8s finished\n"
     ]
    },
    {
     "name": "stdout",
     "output_type": "stream",
     "text": [
      "Linear classifiers (SVM, logistic regression) with SGD\n",
      "Accuracy: 0.657 (+/- 0.015)\n"
     ]
    }
   ],
   "source": [
    "# cannot use naive bayes with negative values\n",
    "test_classifiers(classifiers[1:3], classifiers_names[1:3],\n",
    "                 train_data_cleaned_vect,\n",
    "                 train_target)"
   ]
  },
  {
   "cell_type": "markdown",
   "metadata": {},
   "source": [
    "## Model tuning"
   ]
  },
  {
   "cell_type": "markdown",
   "metadata": {},
   "source": [
    "### tfidf"
   ]
  },
  {
   "cell_type": "markdown",
   "metadata": {},
   "source": [
    "#### sdgClassifier"
   ]
  },
  {
   "cell_type": "code",
   "execution_count": 10,
   "metadata": {},
   "outputs": [],
   "source": [
    "text_clf = Pipeline([\n",
    "    ('vect', CountVectorizer(ngram_range=(1, 2), stop_words='english', max_df=0.75)),\n",
    "    ('tfidf', TfidfTransformer()),\n",
    "    ('clf', SGDClassifier(\n",
    "        loss='hinge',\n",
    "        penalty='l2',\n",
    "        alpha=1e-6,\n",
    "        tol = 1e-3,\n",
    "        max_iter = 500,\n",
    "        random_state=42, )),\n",
    "])\n",
    "\n",
    "}\n",
    "\n",
    "parameters = {\n",
    "    #'vect__max_df': (0.5, 0.75, 1.0),\n",
    "    #'vect__ngram_range': ((1, 2)),\n",
    "    #'loss' : ('hinge', 'log','squared_loss', 'huber', 'epsilon_insensitive'),\n",
    "    'clf__alpha': np.logspace(-6, -9, 3),\n",
    "    #'penalty': ('l2', 'elasticnet'),\n",
    "    #'n_iter': (200),\n",
    "    'clf__tol' : np.logspace(-3, -5, 3) ,\n",
    "    'clf__max_iter' : (500,1000,2000)\n",
    "}\n",
    "\n",
    "\n",
    "\n",
    "gs_clf = GridSearchCV(text_clf, parameters, n_jobs=-1, verbose=10, cv=3)"
   ]
  },
  {
   "cell_type": "code",
   "execution_count": 11,
   "metadata": {
    "scrolled": false
   },
   "outputs": [
    {
     "name": "stdout",
     "output_type": "stream",
     "text": [
      "Fitting 3 folds for each of 45 candidates, totalling 135 fits\n"
     ]
    },
    {
     "name": "stderr",
     "output_type": "stream",
     "text": [
      "[Parallel(n_jobs=-1)]: Done   5 tasks      | elapsed:   46.2s\n",
      "[Parallel(n_jobs=-1)]: Done  10 tasks      | elapsed:  1.2min\n",
      "[Parallel(n_jobs=-1)]: Done  17 tasks      | elapsed:  2.0min\n",
      "[Parallel(n_jobs=-1)]: Done  24 tasks      | elapsed:  2.4min\n",
      "[Parallel(n_jobs=-1)]: Done  33 tasks      | elapsed:  3.5min\n",
      "[Parallel(n_jobs=-1)]: Done  42 tasks      | elapsed:  4.3min\n",
      "[Parallel(n_jobs=-1)]: Done  53 tasks      | elapsed:  5.5min\n",
      "[Parallel(n_jobs=-1)]: Done  64 tasks      | elapsed:  6.4min\n",
      "[Parallel(n_jobs=-1)]: Done  77 tasks      | elapsed:  8.0min\n",
      "[Parallel(n_jobs=-1)]: Done  90 tasks      | elapsed:  9.4min\n",
      "[Parallel(n_jobs=-1)]: Done 105 tasks      | elapsed: 10.9min\n",
      "[Parallel(n_jobs=-1)]: Done 120 tasks      | elapsed: 12.3min\n",
      "[Parallel(n_jobs=-1)]: Done 135 out of 135 | elapsed: 13.7min finished\n"
     ]
    }
   ],
   "source": [
    "gs_clf = gs_clf.fit(train_data_cleaned, train_target)"
   ]
  },
  {
   "cell_type": "code",
   "execution_count": 12,
   "metadata": {},
   "outputs": [
    {
     "data": {
      "text/plain": [
       "0.78688000000000002"
      ]
     },
     "execution_count": 12,
     "metadata": {},
     "output_type": "execute_result"
    }
   ],
   "source": [
    "gs_clf.best_score_"
   ]
  },
  {
   "cell_type": "code",
   "execution_count": 13,
   "metadata": {},
   "outputs": [
    {
     "name": "stdout",
     "output_type": "stream",
     "text": [
      "clf__alpha: 3.1622776601683792e-06\n",
      "clf__max_iter: 500\n",
      "clf__tol: 0.001\n"
     ]
    }
   ],
   "source": [
    "for param_name in sorted(parameters.keys()):\n",
    "    print(\"%s: %r\" % (param_name, gs_clf.best_params_[param_name]))"
   ]
  },
  {
   "cell_type": "markdown",
   "metadata": {},
   "source": [
    "#### logistic regression"
   ]
  },
  {
   "cell_type": "code",
   "execution_count": 16,
   "metadata": {},
   "outputs": [],
   "source": [
    "text_clf = Pipeline([\n",
    "    ('vect', CountVectorizer(ngram_range=(1, 2), stop_words='english', min_df = 5, max_df=0.75)),\n",
    "    ('tfidf', TfidfTransformer()),\n",
    "    ('clf', LogisticRegression(max_iter=200, tol = 1e-5)),\n",
    "])\n",
    "\n",
    "parameters = {\n",
    "    #'vect__max_df': (0.5, 0.75, 1.0),\n",
    "    #'vect__ngram_range': ((1, 2)),\n",
    "    #'loss' : ('hinge', 'log','squared_loss', 'huber', 'epsilon_insensitive'),\n",
    "    #'penalty': ('l2', 'elasticnet'),\n",
    "    #'n_iter': (200),\n",
    "    #'clf__tol' : 1e-4 ,\n",
    "    'clf__max_iter' : (50,100,200),\n",
    "    'clf__solver' : ('liblinear', 'sag'),\n",
    "}\n",
    "\n",
    "\n",
    "gs_clf = GridSearchCV(text_clf, parameters, n_jobs=-1, verbose=10, cv=3)"
   ]
  },
  {
   "cell_type": "code",
   "execution_count": 17,
   "metadata": {},
   "outputs": [
    {
     "name": "stdout",
     "output_type": "stream",
     "text": [
      "Fitting 3 folds for each of 6 candidates, totalling 18 fits\n"
     ]
    },
    {
     "name": "stderr",
     "output_type": "stream",
     "text": [
      "[Parallel(n_jobs=-1)]: Done   5 tasks      | elapsed: 17.9min\n",
      "[Parallel(n_jobs=-1)]: Done  10 tasks      | elapsed: 27.1min\n",
      "[Parallel(n_jobs=-1)]: Done  13 out of  18 | elapsed: 35.9min remaining: 13.8min\n",
      "[Parallel(n_jobs=-1)]: Done  15 out of  18 | elapsed: 36.3min remaining:  7.3min\n",
      "[Parallel(n_jobs=-1)]: Done  18 out of  18 | elapsed: 40.6min finished\n"
     ]
    }
   ],
   "source": [
    "gs_clf = gs_clf.fit(train_data_cleaned, train_target)"
   ]
  },
  {
   "cell_type": "code",
   "execution_count": 21,
   "metadata": {},
   "outputs": [
    {
     "name": "stdout",
     "output_type": "stream",
     "text": [
      "0.8199604\n",
      "clf__max_iter: 50\n",
      "clf__solver: 'sag'\n"
     ]
    }
   ],
   "source": [
    "print(gs_clf.best_score_)\n",
    "for param_name in sorted(parameters.keys()):\n",
    "    print(\"%s: %r\" % (param_name, gs_clf.best_params_[param_name]))"
   ]
  },
  {
   "cell_type": "markdown",
   "metadata": {},
   "source": [
    "### w2v"
   ]
  },
  {
   "cell_type": "code",
   "execution_count": 72,
   "metadata": {},
   "outputs": [],
   "source": [
    "clf = SGDClassifier(\n",
    "        loss='hinge',\n",
    "        penalty='l2',\n",
    "        alpha=1e-6,\n",
    "        tol = 1e-3,\n",
    "        max_iter = 200, )\n",
    "\n",
    "\n",
    "parameters = {\n",
    "    #'vect__max_df': (0.5, 0.75, 1.0),\n",
    "    #'vect__ngram_range': ((1, 2)),\n",
    "    #'loss' : ('hinge', 'log','squared_loss', 'huber', 'epsilon_insensitive'),\n",
    "    'alpha': np.logspace(-6, -9, 3),\n",
    "    #'penalty': ('l2', 'elasticnet'),\n",
    "    #'n_iter': (200),\n",
    "    'tol' : np.logspace(-3, -5, 3) ,\n",
    "    'max_iter' : (50,100,200)\n",
    "}\n",
    "\n",
    "gs_clf = GridSearchCV(clf, parameters, n_jobs=-1, verbose=10, cv=3)"
   ]
  },
  {
   "cell_type": "code",
   "execution_count": 73,
   "metadata": {},
   "outputs": [
    {
     "name": "stdout",
     "output_type": "stream",
     "text": [
      "Fitting 3 folds for each of 27 candidates, totalling 81 fits\n"
     ]
    },
    {
     "name": "stderr",
     "output_type": "stream",
     "text": [
      "[Parallel(n_jobs=-1)]: Done   5 tasks      | elapsed:  3.3min\n",
      "[Parallel(n_jobs=-1)]: Done  10 tasks      | elapsed:  6.6min\n",
      "[Parallel(n_jobs=-1)]: Done  17 tasks      | elapsed: 11.9min\n",
      "[Parallel(n_jobs=-1)]: Done  24 tasks      | elapsed: 18.3min\n",
      "[Parallel(n_jobs=-1)]: Done  33 tasks      | elapsed: 24.4min\n",
      "[Parallel(n_jobs=-1)]: Done  42 tasks      | elapsed: 33.7min\n",
      "[Parallel(n_jobs=-1)]: Done  53 tasks      | elapsed: 51.8min\n",
      "[Parallel(n_jobs=-1)]: Done  64 tasks      | elapsed: 61.0min\n",
      "[Parallel(n_jobs=-1)]: Done  81 out of  81 | elapsed: 85.7min finished\n"
     ]
    }
   ],
   "source": [
    "gs_clf = gs_clf.fit(train_data_cleaned_vect, train_target)"
   ]
  },
  {
   "cell_type": "code",
   "execution_count": 74,
   "metadata": {
    "scrolled": true
   },
   "outputs": [
    {
     "name": "stdout",
     "output_type": "stream",
     "text": [
      "0.6904096\n",
      "alpha: 9.9999999999999995e-07\n",
      "max_iter: 200\n",
      "tol: 0.0001\n"
     ]
    }
   ],
   "source": [
    "print(gs_clf.best_score_)\n",
    "for param_name in sorted(parameters.keys()):\n",
    "    print(\"%s: %r\" % (param_name, gs_clf.best_params_[param_name]))"
   ]
  },
  {
   "cell_type": "markdown",
   "metadata": {},
   "source": [
    "### diff full et pas full"
   ]
  },
  {
   "cell_type": "code",
   "execution_count": 86,
   "metadata": {
    "scrolled": true
   },
   "outputs": [
    {
     "name": "stderr",
     "output_type": "stream",
     "text": [
      "[Parallel(n_jobs=-1)]: Done   2 out of   5 | elapsed:  6.5min remaining:  9.8min\n",
      "[Parallel(n_jobs=-1)]: Done   3 out of   5 | elapsed:  6.7min remaining:  4.5min\n",
      "[Parallel(n_jobs=-1)]: Done   5 out of   5 | elapsed:  7.0min remaining:    0.0s\n",
      "[Parallel(n_jobs=-1)]: Done   5 out of   5 | elapsed:  7.0min finished\n"
     ]
    },
    {
     "data": {
      "text/plain": [
       "array([ 0.73514 ,  0.737554,  0.733654,  0.736346,  0.734122])"
      ]
     },
     "execution_count": 86,
     "metadata": {},
     "output_type": "execute_result"
    }
   ],
   "source": [
    "clf = SGDClassifier(alpha=9.99e-7, max_iter=200, tol=0.0001)\n",
    "full_train = preprocessing.normalize(\n",
    "    np.concatenate((train_sentiments, train_data_cleaned_vect), axis=1))\n",
    "\n",
    "cross_val_score(\n",
    "    clf, full_train, train_target, cv=5, n_jobs=-1, verbose=10)"
   ]
  },
  {
   "cell_type": "markdown",
   "metadata": {},
   "source": [
    "### same avec vect 300"
   ]
  },
  {
   "cell_type": "code",
   "execution_count": 107,
   "metadata": {},
   "outputs": [
    {
     "ename": "MemoryError",
     "evalue": "",
     "output_type": "error",
     "traceback": [
      "\u001b[1;31m---------------------------------------------------------------------------\u001b[0m",
      "\u001b[1;31mMemoryError\u001b[0m                               Traceback (most recent call last)",
      "\u001b[1;32m<ipython-input-107-90e5f330c5cb>\u001b[0m in \u001b[0;36m<module>\u001b[1;34m()\u001b[0m\n\u001b[0;32m      1\u001b[0m \u001b[0mclf\u001b[0m \u001b[1;33m=\u001b[0m \u001b[0mSGDClassifier\u001b[0m\u001b[1;33m(\u001b[0m\u001b[0malpha\u001b[0m\u001b[1;33m=\u001b[0m\u001b[1;36m9.99e-7\u001b[0m\u001b[1;33m,\u001b[0m \u001b[0mmax_iter\u001b[0m\u001b[1;33m=\u001b[0m\u001b[1;36m200\u001b[0m\u001b[1;33m,\u001b[0m \u001b[0mtol\u001b[0m\u001b[1;33m=\u001b[0m\u001b[1;36m0.0001\u001b[0m\u001b[1;33m)\u001b[0m\u001b[1;33m\u001b[0m\u001b[0m\n\u001b[0;32m      2\u001b[0m full_train = preprocessing.normalize(\n\u001b[1;32m----> 3\u001b[1;33m     np.concatenate((train_sentiments, train_data_cleaned_vect), axis=1))\n\u001b[0m\u001b[0;32m      4\u001b[0m \u001b[1;33m\u001b[0m\u001b[0m\n\u001b[0;32m      5\u001b[0m cross_val_score(\n",
      "\u001b[1;32mC:\\Users\\Leonovo\\Anaconda3\\lib\\site-packages\\sklearn\\preprocessing\\data.py\u001b[0m in \u001b[0;36mnormalize\u001b[1;34m(X, norm, axis, copy, return_norm)\u001b[0m\n\u001b[0;32m   1410\u001b[0m \u001b[1;33m\u001b[0m\u001b[0m\n\u001b[0;32m   1411\u001b[0m     X = check_array(X, sparse_format, copy=copy,\n\u001b[1;32m-> 1412\u001b[1;33m                     estimator='the normalize function', dtype=FLOAT_DTYPES)\n\u001b[0m\u001b[0;32m   1413\u001b[0m     \u001b[1;32mif\u001b[0m \u001b[0maxis\u001b[0m \u001b[1;33m==\u001b[0m \u001b[1;36m0\u001b[0m\u001b[1;33m:\u001b[0m\u001b[1;33m\u001b[0m\u001b[0m\n\u001b[0;32m   1414\u001b[0m         \u001b[0mX\u001b[0m \u001b[1;33m=\u001b[0m \u001b[0mX\u001b[0m\u001b[1;33m.\u001b[0m\u001b[0mT\u001b[0m\u001b[1;33m\u001b[0m\u001b[0m\n",
      "\u001b[1;32mC:\\Users\\Leonovo\\Anaconda3\\lib\\site-packages\\sklearn\\utils\\validation.py\u001b[0m in \u001b[0;36mcheck_array\u001b[1;34m(array, accept_sparse, dtype, order, copy, force_all_finite, ensure_2d, allow_nd, ensure_min_samples, ensure_min_features, warn_on_dtype, estimator)\u001b[0m\n\u001b[0;32m    431\u001b[0m                                       force_all_finite)\n\u001b[0;32m    432\u001b[0m     \u001b[1;32melse\u001b[0m\u001b[1;33m:\u001b[0m\u001b[1;33m\u001b[0m\u001b[0m\n\u001b[1;32m--> 433\u001b[1;33m         \u001b[0marray\u001b[0m \u001b[1;33m=\u001b[0m \u001b[0mnp\u001b[0m\u001b[1;33m.\u001b[0m\u001b[0marray\u001b[0m\u001b[1;33m(\u001b[0m\u001b[0marray\u001b[0m\u001b[1;33m,\u001b[0m \u001b[0mdtype\u001b[0m\u001b[1;33m=\u001b[0m\u001b[0mdtype\u001b[0m\u001b[1;33m,\u001b[0m \u001b[0morder\u001b[0m\u001b[1;33m=\u001b[0m\u001b[0morder\u001b[0m\u001b[1;33m,\u001b[0m \u001b[0mcopy\u001b[0m\u001b[1;33m=\u001b[0m\u001b[0mcopy\u001b[0m\u001b[1;33m)\u001b[0m\u001b[1;33m\u001b[0m\u001b[0m\n\u001b[0m\u001b[0;32m    434\u001b[0m \u001b[1;33m\u001b[0m\u001b[0m\n\u001b[0;32m    435\u001b[0m         \u001b[1;32mif\u001b[0m \u001b[0mensure_2d\u001b[0m\u001b[1;33m:\u001b[0m\u001b[1;33m\u001b[0m\u001b[0m\n",
      "\u001b[1;31mMemoryError\u001b[0m: "
     ]
    }
   ],
   "source": [
    "clf = SGDClassifier(alpha=9.99e-7, max_iter=200, tol=0.0001)\n",
    "full_train = preprocessing.normalize(\n",
    "    np.concatenate((train_sentiments, train_data_cleaned_vect), axis=1))\n",
    "\n",
    "cross_val_score(\n",
    "    clf, full_train, train_target, cv=3, n_jobs=-1, verbose=10)"
   ]
  },
  {
   "cell_type": "code",
   "execution_count": 106,
   "metadata": {},
   "outputs": [
    {
     "data": {
      "text/plain": [
       "(2500000, 300)"
      ]
     },
     "execution_count": 106,
     "metadata": {},
     "output_type": "execute_result"
    }
   ],
   "source": [
    "train_data_cleaned_vect.shape"
   ]
  },
  {
   "cell_type": "markdown",
   "metadata": {},
   "source": [
    "## Validation"
   ]
  },
  {
   "cell_type": "code",
   "execution_count": 42,
   "metadata": {},
   "outputs": [
    {
     "name": "stderr",
     "output_type": "stream",
     "text": [
      "[Parallel(n_jobs=-1)]: Done   2 out of   5 | elapsed:  2.2min remaining:  3.3min\n",
      "[Parallel(n_jobs=-1)]: Done   3 out of   5 | elapsed:  2.2min remaining:  1.5min\n",
      "[Parallel(n_jobs=-1)]: Done   5 out of   5 | elapsed:  3.3min remaining:    0.0s\n",
      "[Parallel(n_jobs=-1)]: Done   5 out of   5 | elapsed:  3.3min finished\n"
     ]
    },
    {
     "data": {
      "text/plain": [
       "array([ 0.82244 ,  0.824224,  0.819754,  0.823954,  0.822824])"
      ]
     },
     "execution_count": 42,
     "metadata": {},
     "output_type": "execute_result"
    }
   ],
   "source": [
    "clf = LogisticRegression(solver='sag', max_iter=200, tol = 1e-5, n_jobs=-1)\n",
    "cross_val_score(clf, train_data_tdidf, train_target, cv=5, n_jobs=-1, verbose=10)"
   ]
  },
  {
   "cell_type": "code",
   "execution_count": 31,
   "metadata": {},
   "outputs": [],
   "source": [
    "from scipy.sparse import hstack\n",
    "from sklearn.preprocessing import normalize\n",
    "\n",
    "full_train = preprocessing.normalize(\n",
    "    hstack([\n",
    "        train_sentiments,\n",
    "        train_data_tdidf\n",
    "    ]))\n",
    "\n"
   ]
  },
  {
   "cell_type": "code",
   "execution_count": 43,
   "metadata": {
    "scrolled": true
   },
   "outputs": [
    {
     "name": "stderr",
     "output_type": "stream",
     "text": [
      "[Parallel(n_jobs=-1)]: Done   2 out of   5 | elapsed:  2.2min remaining:  3.2min\n",
      "[Parallel(n_jobs=-1)]: Done   3 out of   5 | elapsed:  2.2min remaining:  1.5min\n",
      "[Parallel(n_jobs=-1)]: Done   5 out of   5 | elapsed:  3.3min remaining:    0.0s\n",
      "[Parallel(n_jobs=-1)]: Done   5 out of   5 | elapsed:  3.3min finished\n"
     ]
    },
    {
     "data": {
      "text/plain": [
       "array([ 0.821468,  0.823288,  0.818774,  0.823088,  0.82168 ])"
      ]
     },
     "execution_count": 43,
     "metadata": {},
     "output_type": "execute_result"
    }
   ],
   "source": [
    "cross_val_score(clf, full_train, train_target, cv=5, n_jobs=-1, verbose=10)"
   ]
  },
  {
   "cell_type": "code",
   "execution_count": 45,
   "metadata": {},
   "outputs": [
    {
     "data": {
      "text/plain": [
       "0.82165959999999993"
      ]
     },
     "execution_count": 45,
     "metadata": {},
     "output_type": "execute_result"
    }
   ],
   "source": [
    "np.mean([ 0.821468,  0.823288,  0.818774,  0.823088,  0.82168 ])"
   ]
  },
  {
   "cell_type": "markdown",
   "metadata": {},
   "source": [
    "# Generate submission"
   ]
  },
  {
   "cell_type": "code",
   "execution_count": 84,
   "metadata": {},
   "outputs": [],
   "source": [
    "#clf = SGDClassifier(alpha=1e-6, max_iter=200, tol=1e-3, n_jobs=-1)\n",
    "clf = SGDClassifier(alpha=9.99e-7, max_iter=200, tol=0.0001, n_jobs=-1)\n",
    "clf.fit(train_data_tdidf, train_target)\n",
    "pred = clf.predict(test_data_tdidf)"
   ]
  },
  {
   "cell_type": "code",
   "execution_count": 25,
   "metadata": {},
   "outputs": [],
   "source": [
    "clf = LogisticRegression(solver='sag', max_iter=200, tol = 1e-5, n_jobs=-1)\n",
    "clf.fit(train_data_tdidf, train_target)\n",
    "pred = clf.predict(test_data_tdidf)"
   ]
  },
  {
   "cell_type": "code",
   "execution_count": 111,
   "metadata": {},
   "outputs": [],
   "source": [
    "full_train = (\n",
    "    np.concatenate((train_sentiments, train_data_cleaned_vect), axis=1))\n",
    "\n",
    "full_test = (\n",
    "    np.concatenate((test_sentiments, test_data_cleaned_vect), axis=1))\n",
    "\n",
    "clf = SGDClassifier(alpha=9.99e-7, max_iter=200, tol=0.0001, n_jobs=-1)\n",
    "clf.fit(full_train, train_target)\n",
    "\n",
    "pred = clf.predict(full_test)"
   ]
  },
  {
   "cell_type": "code",
   "execution_count": 112,
   "metadata": {},
   "outputs": [
    {
     "data": {
      "text/plain": [
       "(2500000, 304)"
      ]
     },
     "execution_count": 112,
     "metadata": {},
     "output_type": "execute_result"
    }
   ],
   "source": [
    "full_train.shape"
   ]
  },
  {
   "cell_type": "code",
   "execution_count": 113,
   "metadata": {},
   "outputs": [
    {
     "name": "stdout",
     "output_type": "stream",
     "text": [
      "File submission20171207022156.csv succesfully created with 10000 entries\n"
     ]
    }
   ],
   "source": [
    "from datetime import datetime\n",
    "now_string = datetime.now().strftime(\"%Y%m%d%H%M%S\")\n",
    "utils.create_submission(\"submission\"+now_string, pred.astype(np.int64))"
   ]
  },
  {
   "cell_type": "code",
   "execution_count": null,
   "metadata": {},
   "outputs": [],
   "source": []
  }
 ],
 "metadata": {
  "kernelspec": {
   "display_name": "Python 3",
   "language": "python",
   "name": "python3"
  },
  "language_info": {
   "codemirror_mode": {
    "name": "ipython",
    "version": 3
   },
   "file_extension": ".py",
   "mimetype": "text/x-python",
   "name": "python",
   "nbconvert_exporter": "python",
   "pygments_lexer": "ipython3",
   "version": "3.6.3"
  },
  "toc": {
   "nav_menu": {},
   "number_sections": true,
   "sideBar": true,
   "skip_h1_title": false,
   "toc_cell": false,
   "toc_position": {
    "height": "683px",
    "left": "0px",
    "right": "1388px",
    "top": "111px",
    "width": "212px"
   },
   "toc_section_display": "block",
   "toc_window_display": true
  }
 },
 "nbformat": 4,
 "nbformat_minor": 2
}
